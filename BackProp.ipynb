{
 "cells": [
  {
   "cell_type": "code",
   "execution_count": 1,
   "id": "dd5aa122",
   "metadata": {},
   "outputs": [],
   "source": [
    "import numpy as np\n",
    "X = np.array(([2, 9], [1, 5], [3, 6]), dtype=float)\n",
    "# two inputs [sleep,study]\n",
    "y = np.array(([92], [86], [89]), dtype=float)\n",
    "# one output [expected % in exams]\n",
    "X = X/np.amax(X,axis=0)\n",
    "#maximum of X array longitudinally\n",
    "y = y/100\n",
    "#Sigmoid Function\n",
    "def sigmoid (x): return 1/(1 + np.exp(-x))\n",
    "#Derivative of Sigmoid Function\n",
    "def derivatives_sigmoid(x): return x * (1 - x)\n",
    "#Variable initialization\n",
    "epoch=5 #Setting training iterations\n",
    "lr=0.1 #Setting learning rate\n",
    "np.random.seed(1)\n",
    "inputlayer_neurons = 2 #number of features in data set\n",
    "hiddenlayer_neurons = 3 #number of hidden layers neurons\n",
    "output_neurons = 1 #number of neurons at output layer\n",
    "#weight and bias initialization\n",
    "wh=np.random.uniform(size=(inputlayer_neurons,hiddenlayer_neurons))\n",
    "bh=np.random.uniform(size=(1,hiddenlayer_neurons))\n",
    "wout=np.random.uniform(size=(hiddenlayer_neurons,output_neurons))\n",
    "bout=np.random.uniform(size=(1,output_neurons))\n",
    "#draws a random range of numbers uniformly of dim x*y"
   ]
  },
  {
   "cell_type": "code",
   "execution_count": 3,
   "id": "0067e6ed",
   "metadata": {},
   "outputs": [
    {
     "name": "stdout",
     "output_type": "stream",
     "text": [
      "Input: \n",
      "[[0.66666667 1.        ]\n",
      " [0.33333333 0.55555556]\n",
      " [1.         0.66666667]]\n",
      "Actual Output: \n",
      "[[0.92]\n",
      " [0.86]\n",
      " [0.89]]\n",
      "Predicted Output: \n",
      " [[0.79107772]\n",
      " [0.77932172]\n",
      " [0.79358328]]\n"
     ]
    }
   ],
   "source": [
    "for i in range(epoch):\n",
    "        #Forward Propagation\n",
    "        hinp1=np.dot(X,wh)\n",
    "        hinp=hinp1 + bh\n",
    "        hlayer_act = sigmoid(hinp)\n",
    "        outinp1=np.dot(hlayer_act,wout)\n",
    "        outinp= outinp1+bout\n",
    "        output = sigmoid(outinp)\n",
    "        #Backpropagation\n",
    "        EO = y-output\n",
    "        outgrad = derivatives_sigmoid(output)\n",
    "        d_output = EO * outgrad\n",
    "        EH = d_output.dot(wout.T)\n",
    "        hiddengrad = derivatives_sigmoid(hlayer_act)\n",
    "        #how much hidden layer wts contributed to error\n",
    "        d_hiddenlayer = EH * hiddengrad\n",
    "        wout += hlayer_act.T.dot(d_output) *lr\n",
    "        # dotproduct of nextlayererror and currentlayerop\n",
    "        wh += X.T.dot(d_hiddenlayer) *lr\n",
    "print(\"Input: \\n\" + str(X))\n",
    "print(\"Actual Output: \\n\" + str(y))\n",
    "print(\"Predicted Output: \\n\" ,output)"
   ]
  },
  {
   "cell_type": "markdown",
   "id": "68a04d49",
   "metadata": {},
   "source": []
  }
 ],
 "metadata": {
  "kernelspec": {
   "display_name": "Python 3 (ipykernel)",
   "language": "python",
   "name": "python3"
  },
  "language_info": {
   "codemirror_mode": {
    "name": "ipython",
    "version": 3
   },
   "file_extension": ".py",
   "mimetype": "text/x-python",
   "name": "python",
   "nbconvert_exporter": "python",
   "pygments_lexer": "ipython3",
   "version": "3.7.3"
  }
 },
 "nbformat": 4,
 "nbformat_minor": 5
}
