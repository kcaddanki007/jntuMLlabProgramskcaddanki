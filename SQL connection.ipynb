{
 "cells": [
  {
   "cell_type": "code",
   "execution_count": 1,
   "id": "97cd217c",
   "metadata": {},
   "outputs": [],
   "source": [
    "import sqlite3\n"
   ]
  },
  {
   "cell_type": "code",
   "execution_count": 3,
   "id": "9fc31eb7",
   "metadata": {},
   "outputs": [
    {
     "name": "stdout",
     "output_type": "stream",
     "text": [
      "[('Mahesh', 45), ('Rahul', 30)]\n"
     ]
    }
   ],
   "source": [
    "conn = sqlite3.connect('StudentInfo')\n",
    "cur = conn.cursor()\n",
    "cur.execute('DROP TABLE IF EXISTS student')\n",
    "cur.execute('CREATE TABLE student (name TEXT, rno INTEGER)')\n",
    "cur.execute('INSERT INTO student (name, rno) VALUES (?, ?)',('Mahesh', 45))\n",
    "cur.execute('INSERT INTO student (name, rno) VALUES (?, ?)',('Rahul', 30))\n",
    "cur.execute('SELECT * FROM student')\n",
    "#print (\"Data in the table using fetchall() function:\")\n",
    "print (cur.fetchall()) \n",
    "conn.close()"
   ]
  },
  {
   "cell_type": "code",
   "execution_count": null,
   "id": "9d926d06",
   "metadata": {},
   "outputs": [],
   "source": []
  }
 ],
 "metadata": {
  "kernelspec": {
   "display_name": "Python 3 (ipykernel)",
   "language": "python",
   "name": "python3"
  },
  "language_info": {
   "codemirror_mode": {
    "name": "ipython",
    "version": 3
   },
   "file_extension": ".py",
   "mimetype": "text/x-python",
   "name": "python",
   "nbconvert_exporter": "python",
   "pygments_lexer": "ipython3",
   "version": "3.7.3"
  }
 },
 "nbformat": 4,
 "nbformat_minor": 5
}
