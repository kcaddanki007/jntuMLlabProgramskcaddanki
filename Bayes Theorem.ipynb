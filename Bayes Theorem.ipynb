{
 "cells": [
  {
   "cell_type": "code",
   "execution_count": 1,
   "id": "2e08acb8",
   "metadata": {},
   "outputs": [
    {
     "name": "stdout",
     "output_type": "stream",
     "text": [
      "P(A|F) = 15.000%\n"
     ]
    }
   ],
   "source": [
    "def bayes_theorem(p_f, p_f_and_a):\n",
    "    p_a_given_f = (p_f_and_a) / p_f \n",
    "    return p_a_given_f\n",
    "# P(F) \n",
    "p_f = 0.2\n",
    "# P(F^A)\n",
    "p_f_and_a = 0.03\n",
    "# calculate P(A|F)\n",
    "result = bayes_theorem(p_f, p_f_and_a)\n",
    "# summarize\n",
    "print('P(A|F) = %.3f%%' % (result * 100))"
   ]
  },
  {
   "cell_type": "code",
   "execution_count": null,
   "id": "91993ef3",
   "metadata": {},
   "outputs": [],
   "source": []
  }
 ],
 "metadata": {
  "kernelspec": {
   "display_name": "Python 3 (ipykernel)",
   "language": "python",
   "name": "python3"
  },
  "language_info": {
   "codemirror_mode": {
    "name": "ipython",
    "version": 3
   },
   "file_extension": ".py",
   "mimetype": "text/x-python",
   "name": "python",
   "nbconvert_exporter": "python",
   "pygments_lexer": "ipython3",
   "version": "3.7.3"
  }
 },
 "nbformat": 4,
 "nbformat_minor": 5
}
