{
 "cells": [
  {
   "cell_type": "code",
   "execution_count": 4,
   "id": "e53a6fa8",
   "metadata": {},
   "outputs": [
    {
     "name": "stdout",
     "output_type": "stream",
     "text": [
      "[[1.30633333 1.41933333]\n",
      " [1.17625    0.4925    ]\n",
      " [0.33066667 1.60833333]]\n",
      "[0 2 2 0 1 0 1 2 1 1]\n",
      "coordinate: [1.713 1.586] label: 0\n",
      "coordinate: [0.18  1.786] label: 2\n",
      "coordinate: [0.353 1.24 ] label: 2\n",
      "coordinate: [0.94  1.566] label: 0\n",
      "coordinate: [1.486 0.759] label: 1\n",
      "coordinate: [1.266 1.106] label: 0\n",
      "coordinate: [1.54  0.419] label: 1\n",
      "coordinate: [0.459 1.799] label: 2\n",
      "coordinate: [0.773 0.186] label: 1\n",
      "coordinate: [0.906 0.606] label: 1\n"
     ]
    }
   ],
   "source": [
    "import numpy as np\n",
    "from sklearn.cluster import KMeans\n",
    "X2= np.array([[1.713,1.586],[0.18,1.786],[0.353,1.24],[0.94,1.566],[1.486,0.759],[1.266,1.106],\n",
    "              [1.54,0.419],[0.459,1.799],[0.773,0.186],[0.906,0.606]])\n",
    "#print(X2)\n",
    "kmeans = KMeans(n_clusters=3,random_state=13) \n",
    "kmeans.fit(X2)\n",
    "centroid = kmeans.cluster_centers_\n",
    "labels = kmeans.labels_\n",
    "print(centroid)\n",
    "print(labels)\n",
    "for i in range(len(X2)):\n",
    "    print(\"coordinate:\" , X2[i], \"label:\", labels[i])"
   ]
  }
 ],
 "metadata": {
  "kernelspec": {
   "display_name": "Python 3 (ipykernel)",
   "language": "python",
   "name": "python3"
  },
  "language_info": {
   "codemirror_mode": {
    "name": "ipython",
    "version": 3
   },
   "file_extension": ".py",
   "mimetype": "text/x-python",
   "name": "python",
   "nbconvert_exporter": "python",
   "pygments_lexer": "ipython3",
   "version": "3.7.3"
  }
 },
 "nbformat": 4,
 "nbformat_minor": 5
}
