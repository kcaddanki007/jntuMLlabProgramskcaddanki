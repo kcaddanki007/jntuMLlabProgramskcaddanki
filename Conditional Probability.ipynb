{
 "cells": [
  {
   "cell_type": "code",
   "execution_count": 13,
   "id": "229cf036",
   "metadata": {},
   "outputs": [
    {
     "name": "stdout",
     "output_type": "stream",
     "text": [
      "P(recreation=golf)\n",
      "0.4\n",
      " P(status=single/credit-worthiness=medRisk)\n",
      "0.6666666666666666\n"
     ]
    }
   ],
   "source": [
    "import pandas as pd\n",
    "df=pd.read_csv(\"https://raw.githubusercontent.com/KMITDS/CS601PC/main/individual.csv\")\n",
    "#print(df.head(10)) \n",
    "# we need to find P(recreation=golf) and P(status=single/credit-worthiness=medRisk)\n",
    "# Pr(status='single'| credit-worthiness='medRisk') = Pr(status='single' &\n",
    "#creditworthiness='medRisk') / Pr(credit-worthiness='medRisk') \n",
    "#print(df[(df.status=='single') & (df.cw=='medRisk')])\n",
    "#print(df.columns)\n",
    "#print(df[(df.cw=='medRisk')])\n",
    "print(\"P(recreation=golf)\") \n",
    "print(df[(df.recreation=='golf')].shape[0]/df.shape[0])\n",
    "print(\" P(status=single/credit-worthiness=medRisk)\")\n",
    "print(df[(df.status=='single') & (df.cw=='medRisk')].shape[0]/df[(df.cw=='medRisk')].shape[0])\n"
   ]
  }
 ],
 "metadata": {
  "kernelspec": {
   "display_name": "Python 3 (ipykernel)",
   "language": "python",
   "name": "python3"
  },
  "language_info": {
   "codemirror_mode": {
    "name": "ipython",
    "version": 3
   },
   "file_extension": ".py",
   "mimetype": "text/x-python",
   "name": "python",
   "nbconvert_exporter": "python",
   "pygments_lexer": "ipython3",
   "version": "3.7.3"
  }
 },
 "nbformat": 4,
 "nbformat_minor": 5
}
